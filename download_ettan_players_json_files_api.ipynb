{
 "cells": [
  {
   "cell_type": "code",
   "execution_count": 10,
   "id": "0507a107",
   "metadata": {
    "scrolled": true
   },
   "outputs": [
    {
     "name": "stdout",
     "output_type": "stream",
     "text": [
      "Previous file deleted: ettan%2C+2023-players.json\n",
      "File downloaded successfully: ettan%2C+2023-players.json\n"
     ]
    }
   ],
   "source": [
    "import requests\n",
    "import os\n",
    "\n",
    "url = \"https://cdn-report.playmaker.ai/ettan/ettan%2C+2023-players.json\"\n",
    "save_directory = r'C:\\Users\\al.eriksson\\Documents\\Python\\Football\\ettan\\playerdata'\n",
    "filename = os.path.basename(url)\n",
    "\n",
    "# Check if the file already exists in the directory\n",
    "if os.path.exists(os.path.join(save_directory, filename)):\n",
    "    # If the file exists, delete it\n",
    "    os.remove(os.path.join(save_directory, filename))\n",
    "    print(\"Previous file deleted:\", filename)\n",
    "\n",
    "# Make the request\n",
    "response = requests.get(url)\n",
    "\n",
    "# Check if the request was successful (status code 200)\n",
    "if response.status_code == 200:\n",
    "    # Save the JSON data to a file in the specified directory\n",
    "    with open(os.path.join(save_directory, filename), 'w') as f:\n",
    "        f.write(response.text)\n",
    "\n",
    "    # Print a success message\n",
    "    print(\"File downloaded successfully:\", filename)\n",
    "else:\n",
    "    # Print an error message if the request was unsuccessful\n",
    "    print(\"Download failed with status code:\", response.status_code)\n"
   ]
  }
 ],
 "metadata": {
  "kernelspec": {
   "display_name": "Python 3 (ipykernel)",
   "language": "python",
   "name": "python3"
  },
  "language_info": {
   "codemirror_mode": {
    "name": "ipython",
    "version": 3
   },
   "file_extension": ".py",
   "mimetype": "text/x-python",
   "name": "python",
   "nbconvert_exporter": "python",
   "pygments_lexer": "ipython3",
   "version": "3.9.7"
  }
 },
 "nbformat": 4,
 "nbformat_minor": 5
}
