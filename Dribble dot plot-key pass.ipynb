{
 "cells": [
  {
   "cell_type": "code",
   "execution_count": 312,
   "id": "2c41f077",
   "metadata": {},
   "outputs": [],
   "source": [
    "import pandas as pd\n",
    "import numpy as np\n",
    "import matplotlib.pyplot as plt\n",
    "import matplotlib.ticker as ticker\n",
    "import matplotlib.patheffects as path_effects\n",
    "from matplotlib.offsetbox import AnchoredText\n",
    "from highlight_text import fig_text, ax_text\n",
    "from adjustText import adjust_text\n",
    "from matplotlib.colors import LinearSegmentedColormap, Normalize\n",
    "from matplotlib import cm\n",
    "import scipy.stats as stats\n",
    "\n",
    "\n",
    "from mplsoccer import Pitch\n",
    "\n",
    "from PIL import Image\n",
    "import urllib\n",
    "import os\n",
    "import json"
   ]
  },
  {
   "cell_type": "code",
   "execution_count": 313,
   "id": "abe4fc41",
   "metadata": {},
   "outputs": [],
   "source": [
    "path_to_json_matches = r'C:\\Users\\al.eriksson\\Documents\\Python\\Football\\ettan\\matchdata' \n",
    "path_to_json_minutesdata = r'C:\\Users\\al.eriksson\\Documents\\Python\\Football\\ettan\\playerdata'\n",
    "\n",
    "# find all .json extensions in a specific directory and assign to one of three lists (matches, players, metadata)\n",
    "json_files_matches = [pos_json for pos_json in os.listdir(path_to_json_matches) if pos_json.endswith('.json')]\n",
    "json_file_minutesdata = [pos_json for pos_json in os.listdir(path_to_json_minutesdata) if pos_json.endswith('.json')]"
   ]
  },
  {
   "cell_type": "code",
   "execution_count": 314,
   "id": "73ae5f52",
   "metadata": {},
   "outputs": [],
   "source": [
    "# Collect all matches from directory in a dataframe\n",
    "all_matches = []\n",
    "\n",
    "for i in list(range(0,len(json_files_matches))):\n",
    "  dir = r'C:\\Users\\al.eriksson\\Documents\\Python\\Football\\ettan\\matchdata' \n",
    "  f = open (dir + '/' + json_files_matches[i])  \n",
    "  matches = json.loads(f.read()) \n",
    "  matches = pd.DataFrame(matches['events']) \n",
    "  all_matches.append(matches)\n",
    "all_matches_df = pd.concat(all_matches)\n",
    "\n",
    "# Collect the ID for a specific tournament and match\n",
    "dir = r'C:\\Users\\al.eriksson\\Documents\\Python\\Football\\ettan\\playerdata'\n",
    "f = open (dir + '/' + json_file_minutesdata[0])\n",
    "minutesdata = json.loads(f.read())\n",
    "minutesdata = pd.DataFrame(minutesdata)"
   ]
  },
  {
   "cell_type": "code",
   "execution_count": 315,
   "id": "d45d0e42",
   "metadata": {},
   "outputs": [],
   "source": [
    "# Filter the DataFrame to keep only the rows with the desired 'minutes' key\n",
    "minutesdata = minutesdata[minutesdata['minutes'].apply(lambda x: '642d59154919e45244efd35b' in x)]\n",
    "\n",
    "# Reset the index of the cleaned DataFrame\n",
    "minutesdata = minutesdata.reset_index(drop=True)\n",
    "\n",
    "# Define a function to extract the minutes from the nested dictionary\n",
    "def extract_minutes(row):\n",
    "    minutes_dict = row.get(\"minutes\", {}).get(\"642d59154919e45244efd35b\", {})\n",
    "    minutes_sum = sum(minutes_dict.values())\n",
    "    return minutes_sum\n",
    "\n",
    "# Apply the function to create a new column containing the sum of minutes\n",
    "minutesdata[\"minutes_sum\"] = minutesdata.apply(extract_minutes, axis=1)\n"
   ]
  },
  {
   "cell_type": "code",
   "execution_count": 316,
   "id": "60820493",
   "metadata": {},
   "outputs": [],
   "source": [
    "# rename the minutesdata name column to player\n",
    "minutesdata = minutesdata.rename(columns={'name': 'player'})"
   ]
  },
  {
   "cell_type": "markdown",
   "id": "e0d34f24",
   "metadata": {},
   "source": [
    "# Preparing dribbles"
   ]
  },
  {
   "cell_type": "code",
   "execution_count": 317,
   "id": "60fed3d4",
   "metadata": {
    "scrolled": true
   },
   "outputs": [],
   "source": [
    "dribble_df = all_matches_df.loc[(all_matches_df['action'] == 'Dribble successful') | (all_matches_df['action'] == 'Dribble unsuccessful')]"
   ]
  },
  {
   "cell_type": "code",
   "execution_count": 318,
   "id": "4825148a",
   "metadata": {},
   "outputs": [],
   "source": [
    "dribble_df = dribble_df[['player', 'team', 'action', 'xpos', 'ypos', 'xdest', 'ydest']].copy()"
   ]
  },
  {
   "cell_type": "code",
   "execution_count": 319,
   "id": "d35211e6",
   "metadata": {
    "scrolled": false
   },
   "outputs": [],
   "source": [
    "# Count the number of successful and unsuccessful dribbles for each player\n",
    "dribble_counts = dribble_df.groupby(['player', 'team'])['action'].value_counts().unstack().fillna(0)\n",
    "\n",
    "# Calculate the success rate\n",
    "dribble_counts['success_rate'] = dribble_counts['Dribble successful'] / (dribble_counts['Dribble successful'] + dribble_counts['Dribble unsuccessful'])"
   ]
  },
  {
   "cell_type": "code",
   "execution_count": 320,
   "id": "830d2246",
   "metadata": {
    "scrolled": true
   },
   "outputs": [],
   "source": [
    "# Merge based on 'player' column\n",
    "merged_dribbles_df = dribble_counts.merge(minutesdata, left_on='player', right_on='player', how='left')"
   ]
  },
  {
   "cell_type": "code",
   "execution_count": 321,
   "id": "b885a5c7",
   "metadata": {
    "scrolled": true
   },
   "outputs": [],
   "source": [
    "# Create a dictionary to map 'friendly_name' to 'player'\n",
    "nickname_map = minutesdata.set_index('friendly_name')['player'].to_dict()\n",
    "# Create a mask for rows where the merge on 'player' column did not find a match\n",
    "mask = merged_dribbles_df['minutes_sum'].isnull()\n",
    "# Map 'player' column using the nickname_map for unmatched rows\n",
    "merged_dribbles_df.loc[mask, 'player'] = merged_dribbles_df.loc[mask, 'player'].map(nickname_map)\n",
    "# Merge based on 'player' column\n",
    "merged_dribbles_df = merged_dribbles_df.merge(minutesdata, left_on='player', right_on='player', how='left')"
   ]
  },
  {
   "cell_type": "code",
   "execution_count": 322,
   "id": "964b1f7f",
   "metadata": {},
   "outputs": [],
   "source": [
    "# Drop unnecessary columns\n",
    "merged_dribbles_df = merged_dribbles_df.drop(columns=['minutes_x', 'minutes_sum_x', 'friendly_name_x', 'team_x', 'friendly_name_y', 'minutes_y'])"
   ]
  },
  {
   "cell_type": "code",
   "execution_count": 323,
   "id": "a466649e",
   "metadata": {},
   "outputs": [],
   "source": [
    "# Remove \"_x\" and \"_y\" from column names\n",
    "merged_dribbles_df = merged_dribbles_df.rename(columns=lambda x: x.rstrip('_x').rstrip('_y'))"
   ]
  },
  {
   "cell_type": "code",
   "execution_count": 324,
   "id": "91a428b0",
   "metadata": {},
   "outputs": [],
   "source": [
    "df_plot_dribbles = merged_dribbles_df[\n",
    "    (merged_dribbles_df['minutes_sum'] >= merged_dribbles_df['minutes_sum'].median()) &\n",
    "    (merged_dribbles_df['Dribble successful'] + merged_dribbles_df['Dribble unsuccessful'] >= 4)\n",
    "]"
   ]
  },
  {
   "cell_type": "code",
   "execution_count": 325,
   "id": "2ad6cbc6",
   "metadata": {
    "scrolled": true
   },
   "outputs": [],
   "source": [
    "df_plot_dribbles = df_plot_dribbles.assign(succ_dribble_90=lambda x: ((x['Dribble successful'] + x['Dribble unsuccessful']) / x['minutes_sum']) * 90)"
   ]
  },
  {
   "cell_type": "code",
   "execution_count": 326,
   "id": "b7fcb24e",
   "metadata": {
    "scrolled": false
   },
   "outputs": [],
   "source": [
    "# Delete rows where player is unknown\n",
    "df_plot_dribbles = df_plot_dribbles[df_plot_dribbles['player'] != 'Unknown']\n",
    "\n",
    "# Sort the DataFrame by 'succ_dribble_90' column in descending order\n",
    "df_plot_dribbles = df_plot_dribbles.sort_values(by='succ_dribble_90', ascending=False)"
   ]
  },
  {
   "cell_type": "markdown",
   "id": "68d47679",
   "metadata": {},
   "source": [
    "# Preparing the key passes"
   ]
  },
  {
   "cell_type": "code",
   "execution_count": 327,
   "id": "9a7f259b",
   "metadata": {
    "scrolled": true
   },
   "outputs": [],
   "source": [
    "keypass_df = all_matches_df.loc[all_matches_df['action'] == 'Key pass']\n",
    "keypass_df = keypass_df[['player', 'team', 'action', 'xpos', 'ypos', 'xdest', 'ydest']].copy()"
   ]
  },
  {
   "cell_type": "code",
   "execution_count": 328,
   "id": "3637630a",
   "metadata": {},
   "outputs": [],
   "source": [
    "# Count the number of key passes for each player\n",
    "keypass_counts = keypass_df.groupby(['player', 'team'])['action'].value_counts().unstack().fillna(0)"
   ]
  },
  {
   "cell_type": "code",
   "execution_count": 329,
   "id": "2b337dc4",
   "metadata": {},
   "outputs": [],
   "source": [
    "# Merge based on 'player' column\n",
    "merged_keypass_df = keypass_counts.merge(minutesdata, left_on='player', right_on='player', how='left')"
   ]
  },
  {
   "cell_type": "code",
   "execution_count": 330,
   "id": "b7a4f80b",
   "metadata": {},
   "outputs": [],
   "source": [
    "# Create a dictionary to map 'friendly_name' to 'player'\n",
    "nickname_map = minutesdata.set_index('friendly_name')['player'].to_dict()\n",
    "# Create a mask for rows where the merge on 'player' column did not find a match\n",
    "mask = merged_keypass_df['minutes_sum'].isnull()\n",
    "# Map 'player' column using the nickname_map for unmatched rows\n",
    "merged_keypass_df.loc[mask, 'player'] = merged_keypass_df.loc[mask, 'player'].map(nickname_map)\n",
    "# Merge based on 'player' column\n",
    "merged_keypass_df = merged_keypass_df.merge(minutesdata, left_on='player', right_on='player', how='left')"
   ]
  },
  {
   "cell_type": "code",
   "execution_count": 331,
   "id": "3d600092",
   "metadata": {
    "scrolled": false
   },
   "outputs": [],
   "source": [
    "# Drop unnecessary columns\n",
    "merged_keypass_df = merged_keypass_df.drop(columns=['friendly_name_x', 'minutes_x', 'team_x', 'minutes_sum_x', 'friendly_name_y', 'minutes_y'])"
   ]
  },
  {
   "cell_type": "code",
   "execution_count": 332,
   "id": "439df319",
   "metadata": {},
   "outputs": [],
   "source": [
    "# Remove \"_x\" and \"_y\" from column names\n",
    "merged_keypass_df = merged_keypass_df.rename(columns=lambda x: x.rstrip('_x').rstrip('_y'))"
   ]
  },
  {
   "cell_type": "code",
   "execution_count": 333,
   "id": "6bb91431",
   "metadata": {},
   "outputs": [],
   "source": [
    "df_plot_keypass = merged_keypass_df[\n",
    "    (merged_keypass_df['minutes_sum'] >= merged_keypass_df['minutes_sum'].median()) &\n",
    "    (merged_keypass_df['Key pass'] >= 3)\n",
    "]"
   ]
  },
  {
   "cell_type": "code",
   "execution_count": 334,
   "id": "b9bef40e",
   "metadata": {},
   "outputs": [],
   "source": [
    "df_plot_keypass = df_plot_keypass.assign(keypass_90=lambda x: (x['Key pass'] / x['minutes_sum']) * 90)"
   ]
  },
  {
   "cell_type": "code",
   "execution_count": 335,
   "id": "5403a6a6",
   "metadata": {},
   "outputs": [],
   "source": [
    "# Delete rows where player is unknown\n",
    "df_plot_keypass = df_plot_keypass[df_plot_keypass['player'] != 'Unknown']\n",
    "\n",
    "# Sort the DataFrame by 'succ_dribble_90' column in descending order\n",
    "df_plot_keypass = df_plot_keypass.sort_values(by='keypass_90', ascending=False)"
   ]
  },
  {
   "cell_type": "markdown",
   "id": "b57840b8",
   "metadata": {},
   "source": [
    "# Merge the df_plot_keypass 'Key pass' column with the df_plot_dribbles on player & team"
   ]
  },
  {
   "cell_type": "code",
   "execution_count": 336,
   "id": "3ac0ced7",
   "metadata": {
    "scrolled": true
   },
   "outputs": [],
   "source": [
    "# Merge df_plot_dribbles and df_plot_keypass based on 'player' and 'team' columns\n",
    "df_plot = df_plot_dribbles.merge(df_plot_keypass[['player', 'team', 'keypass_90']], on=['player', 'team'], how='left')"
   ]
  },
  {
   "cell_type": "code",
   "execution_count": 337,
   "id": "74206849",
   "metadata": {},
   "outputs": [
    {
     "data": {
      "text/html": [
       "<div>\n",
       "<style scoped>\n",
       "    .dataframe tbody tr th:only-of-type {\n",
       "        vertical-align: middle;\n",
       "    }\n",
       "\n",
       "    .dataframe tbody tr th {\n",
       "        vertical-align: top;\n",
       "    }\n",
       "\n",
       "    .dataframe thead th {\n",
       "        text-align: right;\n",
       "    }\n",
       "</style>\n",
       "<table border=\"1\" class=\"dataframe\">\n",
       "  <thead>\n",
       "    <tr style=\"text-align: right;\">\n",
       "      <th></th>\n",
       "      <th>player</th>\n",
       "      <th>Dribble successful</th>\n",
       "      <th>Dribble unsuccessful</th>\n",
       "      <th>success_rate</th>\n",
       "      <th>team</th>\n",
       "      <th>minutes_sum</th>\n",
       "      <th>succ_dribble_90</th>\n",
       "      <th>keypass_90</th>\n",
       "    </tr>\n",
       "  </thead>\n",
       "  <tbody>\n",
       "    <tr>\n",
       "      <th>0</th>\n",
       "      <td>Youssef Fayad</td>\n",
       "      <td>7.0</td>\n",
       "      <td>3.0</td>\n",
       "      <td>0.700000</td>\n",
       "      <td>Vänersborgs IF</td>\n",
       "      <td>344</td>\n",
       "      <td>2.616279</td>\n",
       "      <td>0.784884</td>\n",
       "    </tr>\n",
       "    <tr>\n",
       "      <th>1</th>\n",
       "      <td>Ayomide Jibodu</td>\n",
       "      <td>20.0</td>\n",
       "      <td>5.0</td>\n",
       "      <td>0.800000</td>\n",
       "      <td>Oskarshamns AIK</td>\n",
       "      <td>951</td>\n",
       "      <td>2.365931</td>\n",
       "      <td>1.041009</td>\n",
       "    </tr>\n",
       "    <tr>\n",
       "      <th>2</th>\n",
       "      <td>Antonios Gaitanidis</td>\n",
       "      <td>12.0</td>\n",
       "      <td>7.0</td>\n",
       "      <td>0.631579</td>\n",
       "      <td>Oskarshamns AIK</td>\n",
       "      <td>737</td>\n",
       "      <td>2.320217</td>\n",
       "      <td>1.587517</td>\n",
       "    </tr>\n",
       "    <tr>\n",
       "      <th>3</th>\n",
       "      <td>Mohammad Alsalkhadi</td>\n",
       "      <td>4.0</td>\n",
       "      <td>2.0</td>\n",
       "      <td>0.666667</td>\n",
       "      <td>Sandvikens IF</td>\n",
       "      <td>264</td>\n",
       "      <td>2.045455</td>\n",
       "      <td>1.704545</td>\n",
       "    </tr>\n",
       "    <tr>\n",
       "      <th>4</th>\n",
       "      <td>Osama Khattab</td>\n",
       "      <td>7.0</td>\n",
       "      <td>2.0</td>\n",
       "      <td>0.777778</td>\n",
       "      <td>Torns IF</td>\n",
       "      <td>424</td>\n",
       "      <td>1.910377</td>\n",
       "      <td>0.636792</td>\n",
       "    </tr>\n",
       "    <tr>\n",
       "      <th>...</th>\n",
       "      <td>...</td>\n",
       "      <td>...</td>\n",
       "      <td>...</td>\n",
       "      <td>...</td>\n",
       "      <td>...</td>\n",
       "      <td>...</td>\n",
       "      <td>...</td>\n",
       "      <td>...</td>\n",
       "    </tr>\n",
       "    <tr>\n",
       "      <th>147</th>\n",
       "      <td>Albin Olsson</td>\n",
       "      <td>3.0</td>\n",
       "      <td>1.0</td>\n",
       "      <td>0.750000</td>\n",
       "      <td>Oskarshamns AIK</td>\n",
       "      <td>1104</td>\n",
       "      <td>0.326087</td>\n",
       "      <td>NaN</td>\n",
       "    </tr>\n",
       "    <tr>\n",
       "      <th>148</th>\n",
       "      <td>Rodin Deprem</td>\n",
       "      <td>2.0</td>\n",
       "      <td>2.0</td>\n",
       "      <td>0.500000</td>\n",
       "      <td>Dalkurd</td>\n",
       "      <td>1110</td>\n",
       "      <td>0.324324</td>\n",
       "      <td>0.405405</td>\n",
       "    </tr>\n",
       "    <tr>\n",
       "      <th>149</th>\n",
       "      <td>Henrik Millbert</td>\n",
       "      <td>2.0</td>\n",
       "      <td>2.0</td>\n",
       "      <td>0.500000</td>\n",
       "      <td>Piteå IF FF</td>\n",
       "      <td>1118</td>\n",
       "      <td>0.322004</td>\n",
       "      <td>0.644007</td>\n",
       "    </tr>\n",
       "    <tr>\n",
       "      <th>150</th>\n",
       "      <td>Kalle Björklund</td>\n",
       "      <td>4.0</td>\n",
       "      <td>0.0</td>\n",
       "      <td>1.000000</td>\n",
       "      <td>IFK Stocksund</td>\n",
       "      <td>1129</td>\n",
       "      <td>0.318866</td>\n",
       "      <td>0.398583</td>\n",
       "    </tr>\n",
       "    <tr>\n",
       "      <th>151</th>\n",
       "      <td>Suleman Zurmati</td>\n",
       "      <td>2.0</td>\n",
       "      <td>2.0</td>\n",
       "      <td>0.500000</td>\n",
       "      <td>Trollhättan</td>\n",
       "      <td>1150</td>\n",
       "      <td>0.313043</td>\n",
       "      <td>0.626087</td>\n",
       "    </tr>\n",
       "  </tbody>\n",
       "</table>\n",
       "<p>152 rows × 8 columns</p>\n",
       "</div>"
      ],
      "text/plain": [
       "                  player  Dribble successful  Dribble unsuccessful  \\\n",
       "0          Youssef Fayad                 7.0                   3.0   \n",
       "1         Ayomide Jibodu                20.0                   5.0   \n",
       "2    Antonios Gaitanidis                12.0                   7.0   \n",
       "3    Mohammad Alsalkhadi                 4.0                   2.0   \n",
       "4          Osama Khattab                 7.0                   2.0   \n",
       "..                   ...                 ...                   ...   \n",
       "147         Albin Olsson                 3.0                   1.0   \n",
       "148         Rodin Deprem                 2.0                   2.0   \n",
       "149      Henrik Millbert                 2.0                   2.0   \n",
       "150      Kalle Björklund                 4.0                   0.0   \n",
       "151      Suleman Zurmati                 2.0                   2.0   \n",
       "\n",
       "     success_rate             team  minutes_sum  succ_dribble_90  keypass_90  \n",
       "0        0.700000   Vänersborgs IF          344         2.616279    0.784884  \n",
       "1        0.800000  Oskarshamns AIK          951         2.365931    1.041009  \n",
       "2        0.631579  Oskarshamns AIK          737         2.320217    1.587517  \n",
       "3        0.666667    Sandvikens IF          264         2.045455    1.704545  \n",
       "4        0.777778         Torns IF          424         1.910377    0.636792  \n",
       "..            ...              ...          ...              ...         ...  \n",
       "147      0.750000  Oskarshamns AIK         1104         0.326087         NaN  \n",
       "148      0.500000          Dalkurd         1110         0.324324    0.405405  \n",
       "149      0.500000      Piteå IF FF         1118         0.322004    0.644007  \n",
       "150      1.000000    IFK Stocksund         1129         0.318866    0.398583  \n",
       "151      0.500000      Trollhättan         1150         0.313043    0.626087  \n",
       "\n",
       "[152 rows x 8 columns]"
      ]
     },
     "execution_count": 337,
     "metadata": {},
     "output_type": "execute_result"
    }
   ],
   "source": [
    "df_plot"
   ]
  },
  {
   "cell_type": "code",
   "execution_count": 340,
   "id": "48e2a559",
   "metadata": {},
   "outputs": [],
   "source": [
    "# Calculate the z-scores for each column, ignoring NaN values\n",
    "df_plot['zscore_succ_dribble'] = (df_plot['succ_dribble_90'] - np.nanmean(df_plot['succ_dribble_90'])) / np.nanstd(df_plot['succ_dribble_90'])\n",
    "df_plot['zscore_keypass'] = (df_plot['keypass_90'] - np.nanmean(df_plot['keypass_90'])) / np.nanstd(df_plot['keypass_90'])\n",
    "\n",
    "# Weigh the z-scores equally\n",
    "df_plot['zscore'] = (df_plot['zscore_succ_dribble'] + df_plot['zscore_keypass']) / 2\n",
    "\n",
    "df_plot['annotated'] = [True if x > df_plot['zscore'].quantile(0.95) else False for x in df_plot['zscore']]"
   ]
  },
  {
   "cell_type": "code",
   "execution_count": 359,
   "id": "1473a30d",
   "metadata": {},
   "outputs": [
    {
     "data": {
      "image/png": "[encoded data removed]",
      "text/plain": [
       "<Figure size 800x800 with 1 Axes>"
      ]
     },
     "metadata": {},
     "output_type": "display_data"
    }
   ],
   "source": [
    "fig = plt.figure(figsize=(8, 8), dpi=100)\n",
    "ax = plt.subplot()\n",
    "ax.set_facecolor('#1b2429')\n",
    "\n",
    "ax.scatter(\n",
    "    df_plot['succ_dribble_90'], df_plot['keypass_90'], \n",
    "    c=df_plot['zscore'], cmap='inferno', \n",
    "    zorder=3, ec='#1b2429', s=55, alpha=0.8)\n",
    "\n",
    "texts = []\n",
    "annotated_df = df_plot[df_plot['annotated']].reset_index(drop=True)\n",
    "for index in range(annotated_df.shape[0]):\n",
    "    name_parts = annotated_df['player'].iloc[index].split()\n",
    "    initials = \" \".join(part[0] + \".\" for part in name_parts[:-1])\n",
    "    last_name = name_parts[-1]\n",
    "    \n",
    "    texts += [\n",
    "        ax.text(\n",
    "            x=annotated_df['succ_dribble_90'].iloc[index], y=annotated_df['keypass_90'].iloc[index],\n",
    "            s=f\"{initials} {last_name}\",\n",
    "            path_effects=[path_effects.Stroke(linewidth=2, foreground=fig.get_facecolor()),\n",
    "                          path_effects.Normal()], color='white',\n",
    "            family='DM Sans', weight='bold'\n",
    "        )\n",
    "    ]\n",
    "\n",
    "adjust_text(texts, only_move={'points': 'y', 'text': 'xy', 'objects': 'xy'})\n",
    "\n",
    "# Calculate the tick positions for the x-axis\n",
    "x_min = df_plot['succ_dribble_90'].min()\n",
    "x_max = df_plot['succ_dribble_90'].max()\n",
    "x_ticks = np.arange(np.floor(x_min) + 0.5, np.ceil(x_max) + 0.5, 0.5)\n",
    "ax.set_xticks(x_ticks)\n",
    "\n",
    "# Calculate the tick positions for the y-axis\n",
    "y_min = df_plot['keypass_90'].min()\n",
    "y_max = df_plot['keypass_90'].max()\n",
    "y_ticks = np.arange(np.floor(y_min) + 0.5, np.ceil(y_max) + 0.5, 0.5)\n",
    "ax.set_yticks(y_ticks)\n",
    "\n",
    "# Plot the horizontal lines\n",
    "for y in y_ticks:\n",
    "    if y != 0:\n",
    "        ax.axhline(y=y, color='white', linestyle='--', alpha=0.3)\n",
    "\n",
    "# Plot the vertical lines\n",
    "for x in x_ticks:\n",
    "    if x != 0:\n",
    "        ax.axvline(x=x, color='white', linestyle='--', alpha=0.3)\n",
    "\n",
    "# Set the y-axis tick labels\n",
    "ax.set_yticklabels([f\"{float(y)}\" for y in y_ticks])\n",
    "\n",
    "# Calculate the upper limit for the y-axis\n",
    "y_upper_limit = y_max + (y_max * 0.05)\n",
    "\n",
    "# Set the y-axis limits\n",
    "ax.set_ylim(0, y_upper_limit)\n",
    "\n",
    "ax.set_ylabel('Successful key passes per 90')\n",
    "ax.set_xlabel('Successful dribbles per 90')\n",
    "\n",
    "ax.spines['top'].set_visible(False)\n",
    "ax.spines['right'].set_visible(False)\n",
    "\n",
    "fig.patch.set_facecolor('#1b2429')\n",
    "ax.xaxis.label.set_color('white')\n",
    "ax.yaxis.label.set_color('white')\n",
    "ax.tick_params(axis='x', colors='white')\n",
    "ax.tick_params(axis='y', colors='white')\n",
    "\n",
    "fig_text(\n",
    "    x=0.09, y=.99,\n",
    "    s=\"Ettan Dribblers & Key Passes Per 90 | Season 2022/2023\",\n",
    "    va=\"bottom\", ha=\"left\",\n",
    "    fontsize=20, color=\"white\", font=\"DM Sans\", weight=\"bold\"\n",
    ")\n",
    "\n",
    "fig_text(\n",
    "    x=0.09, y=0.93,\n",
    "    s=\"Players with a total of 4 or more dribble attempts\\n & a total of 3 or more key passes are shown.\",\n",
    "    va=\"bottom\", ha=\"left\",\n",
    "    fontsize=12, color=\"white\", font=\"Karla\"\n",
    ")\n",
    "\n",
    "# Add creator text outside the plotted graph\n",
    "plt.text(1, -0.085, \"Created by: Simon Gebrenegus & Alex Eriksson\\nRaw Data from: Playmaker AI\", fontsize=6, color=\"white\", ha=\"right\", transform=ax.transAxes)\n",
    "\n",
    "ax.spines['bottom'].set_color('white')\n",
    "ax.spines['left'].set_color('white')\n",
    "ax.spines['bottom'].set_linewidth(0.5)\n",
    "ax.spines['left'].set_linewidth(0.5)\n",
    "\n",
    "plt.savefig(\n",
    "    r'C:\\Users\\al.eriksson\\Documents\\Python\\Football\\dotplot_dribblers_keypasses.jpg',\n",
    "    dpi=600,\n",
    "    facecolor='#1b2429',\n",
    "    bbox_inches=\"tight\",\n",
    "    edgecolor='#1b2429',\n",
    "    transparent=False\n",
    ")\n",
    "\n",
    "plt.show()"
   ]
  }
 ],
 "metadata": {
  "kernelspec": {
   "display_name": "Python 3 (ipykernel)",
   "language": "python",
   "name": "python3"
  },
  "language_info": {
   "codemirror_mode": {
    "name": "ipython",
    "version": 3
   },
   "file_extension": ".py",
   "mimetype": "text/x-python",
   "name": "python",
   "nbconvert_exporter": "python",
   "pygments_lexer": "ipython3",
   "version": "3.9.7"
  }
 },
 "nbformat": 4,
 "nbformat_minor": 5
}
