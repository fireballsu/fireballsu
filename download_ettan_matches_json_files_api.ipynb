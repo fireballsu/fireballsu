{
 "cells": [
  {
   "cell_type": "code",
   "execution_count": 30,
   "id": "0507a107",
   "metadata": {
    "scrolled": true
   },
   "outputs": [],
   "source": [
    "import requests\n",
    "import os\n",
    "\n",
    "api_url = \"http://export.api.playmaker.ai/games?season_name=ettan&year=2023\"\n",
    "api_key = \"ettan-api-key\"\n",
    "\n",
    "# Set the headers with the \"x-api-key\" value\n",
    "headers = {\"x-api-key\": api_key}\n",
    "\n",
    "# Make the API request with the headers\n",
    "response = requests.get(api_url, headers=headers)\n",
    "\n",
    "# Check if the request was successful (status code 200)\n",
    "if response.status_code == 200:\n",
    "    # Assuming the API response contains a list of JSON file paths relative to the base URL\n",
    "    games = response.json()['games']\n",
    "    \n",
    "    # Iterate over the games and fetch the files --> Extract the URL from the 'url' key\n",
    "    for game in games:\n",
    "        url = game['url']\n",
    "        \n",
    "        # Make a request for each JSON file\n",
    "        json_response = requests.get(url)\n",
    "        \n",
    "        # if request was successful --> extract the original filename from the URL\n",
    "        if json_response.status_code == 200:\n",
    "            filename = url.split(\"/\")[-1]\n",
    "            \n",
    "            # Specify the directory path where you want to save the file\n",
    "            save_directory = r'C:\\Users\\al.eriksson\\Documents\\Python\\Football\\ettan\\matchdata'\n",
    "\n",
    "            # Save the JSON data to a file using the original filename in the specified directory\n",
    "            with open(os.path.join(save_directory, filename), 'w') as f:\n",
    "                f.write(json_response.text)\n",
    "    \n",
    "else:\n",
    "    # Print an error message if the API request was unsuccessful\n",
    "    print(\"API request failed with status code:\", response.status_code)"
   ]
  }
 ],
 "metadata": {
  "kernelspec": {
   "display_name": "Python 3 (ipykernel)",
   "language": "python",
   "name": "python3"
  },
  "language_info": {
   "codemirror_mode": {
    "name": "ipython",
    "version": 3
   },
   "file_extension": ".py",
   "mimetype": "text/x-python",
   "name": "python",
   "nbconvert_exporter": "python",
   "pygments_lexer": "ipython3",
   "version": "3.9.7"
  }
 },
 "nbformat": 4,
 "nbformat_minor": 5
}
